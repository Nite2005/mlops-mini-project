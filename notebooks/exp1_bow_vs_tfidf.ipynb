{
 "cells": [
  {
   "cell_type": "code",
   "execution_count": 10,
   "id": "25a95796",
   "metadata": {},
   "outputs": [],
   "source": [
    "import mlflow\n",
    "import pandas as pd\n",
    "import mlflow.sklearn\n",
    "from sklearn.feature_extraction.text import CountVectorizer,TfidfVectorizer\n",
    "from sklearn.model_selection import train_test_split\n",
    "from sklearn.linear_model import LogisticRegression\n",
    "from sklearn.metrics import accuracy_score, precision_score,recall_score, f1_score\n",
    "import re\n",
    "import string \n",
    "from nltk.corpus import stopwords\n",
    "from nltk.stem import WordNetLemmatizer\n",
    "import numpy as np\n",
    "from nltk.tokenize import word_tokenize\n",
    "from sklearn.naive_bayes import MultinomialNB\n",
    "from xgboost import XGBClassifier\n",
    "from sklearn.ensemble import RandomForestClassifier\n",
    "from sklearn.ensemble import GradientBoostingClassifier\n",
    "\n"
   ]
  },
  {
   "cell_type": "code",
   "execution_count": 2,
   "id": "10790856",
   "metadata": {},
   "outputs": [
    {
     "data": {
      "text/html": [
       "<div>\n",
       "<style scoped>\n",
       "    .dataframe tbody tr th:only-of-type {\n",
       "        vertical-align: middle;\n",
       "    }\n",
       "\n",
       "    .dataframe tbody tr th {\n",
       "        vertical-align: top;\n",
       "    }\n",
       "\n",
       "    .dataframe thead th {\n",
       "        text-align: right;\n",
       "    }\n",
       "</style>\n",
       "<table border=\"1\" class=\"dataframe\">\n",
       "  <thead>\n",
       "    <tr style=\"text-align: right;\">\n",
       "      <th></th>\n",
       "      <th>sentiment</th>\n",
       "      <th>content</th>\n",
       "    </tr>\n",
       "  </thead>\n",
       "  <tbody>\n",
       "    <tr>\n",
       "      <th>0</th>\n",
       "      <td>empty</td>\n",
       "      <td>@tiffanylue i know  i was listenin to bad habi...</td>\n",
       "    </tr>\n",
       "    <tr>\n",
       "      <th>1</th>\n",
       "      <td>sadness</td>\n",
       "      <td>Layin n bed with a headache  ughhhh...waitin o...</td>\n",
       "    </tr>\n",
       "    <tr>\n",
       "      <th>2</th>\n",
       "      <td>sadness</td>\n",
       "      <td>Funeral ceremony...gloomy friday...</td>\n",
       "    </tr>\n",
       "    <tr>\n",
       "      <th>3</th>\n",
       "      <td>enthusiasm</td>\n",
       "      <td>wants to hang out with friends SOON!</td>\n",
       "    </tr>\n",
       "    <tr>\n",
       "      <th>4</th>\n",
       "      <td>neutral</td>\n",
       "      <td>@dannycastillo We want to trade with someone w...</td>\n",
       "    </tr>\n",
       "  </tbody>\n",
       "</table>\n",
       "</div>"
      ],
      "text/plain": [
       "    sentiment                                            content\n",
       "0       empty  @tiffanylue i know  i was listenin to bad habi...\n",
       "1     sadness  Layin n bed with a headache  ughhhh...waitin o...\n",
       "2     sadness                Funeral ceremony...gloomy friday...\n",
       "3  enthusiasm               wants to hang out with friends SOON!\n",
       "4     neutral  @dannycastillo We want to trade with someone w..."
      ]
     },
     "execution_count": 2,
     "metadata": {},
     "output_type": "execute_result"
    }
   ],
   "source": [
    "df = pd.read_csv(\"https://raw.githubusercontent.com/campusx-official/jupyter-masterclass/refs/heads/main/tweet_emotions.csv\").drop(columns=['tweet_id'])\n",
    "df.head()"
   ]
  },
  {
   "cell_type": "code",
   "execution_count": null,
   "id": "32c11d6c",
   "metadata": {},
   "outputs": [],
   "source": []
  },
  {
   "cell_type": "code",
   "execution_count": 3,
   "id": "25782b83",
   "metadata": {},
   "outputs": [],
   "source": [
    "def clean_data(text):\n",
    "  text = text.lower()\n",
    "  text = text.translate(str.maketrans('','',string.punctuation))\n",
    "  text = re.sub(r'\\d+', '', text)\n",
    "  text = text.strip()\n",
    "  return text\n",
    "\n",
    "def noise_removal(text):\n",
    "  text = re.sub(r\"http\\S+|www\\S+|https\\S+\",'',text)\n",
    "  text = re.sub(r'[^A-Za-z\\s]','',text)\n",
    "  return text\n",
    "\n",
    "def tokenization(text):\n",
    "  tokens = word_tokenize(text)\n",
    "  return tokens\n",
    "\n",
    "def stopword_removal(tokens):\n",
    "  stop_words = set(stopwords.words('english'))\n",
    "  tokens = [word for word in tokens if word not in stop_words]\n",
    "  return tokens\n",
    "\n",
    "def lemmatization(tokens):\n",
    "  lemmatizer = WordNetLemmatizer()\n",
    "  tokens = [lemmatizer.lemmatize(word) for word in tokens]\n",
    "  return tokens\n",
    "\n",
    "\n",
    "def preprocess_text(df):\n",
    "  df['content'] = df['content'].apply(lambda content: clean_data(content))\n",
    "  df['content'] = df['content'].apply(lambda content: noise_removal(content))\n",
    "  df['content'] = df['content'].apply(lambda content:tokenization(content))\n",
    "  df['content'] = df['content'].apply(lambda content: stopword_removal(content))\n",
    "  df['content'] = df['content'].apply(lambda content: lemmatization(content))\n",
    "  df['content'] = df['content'].apply(lambda tokens: ' '.join(tokens))\n",
    "  return df \n",
    "  "
   ]
  },
  {
   "cell_type": "code",
   "execution_count": 4,
   "id": "6a8ed55c",
   "metadata": {},
   "outputs": [
    {
     "data": {
      "text/html": [
       "<div>\n",
       "<style scoped>\n",
       "    .dataframe tbody tr th:only-of-type {\n",
       "        vertical-align: middle;\n",
       "    }\n",
       "\n",
       "    .dataframe tbody tr th {\n",
       "        vertical-align: top;\n",
       "    }\n",
       "\n",
       "    .dataframe thead th {\n",
       "        text-align: right;\n",
       "    }\n",
       "</style>\n",
       "<table border=\"1\" class=\"dataframe\">\n",
       "  <thead>\n",
       "    <tr style=\"text-align: right;\">\n",
       "      <th></th>\n",
       "      <th>sentiment</th>\n",
       "      <th>content</th>\n",
       "    </tr>\n",
       "  </thead>\n",
       "  <tbody>\n",
       "    <tr>\n",
       "      <th>0</th>\n",
       "      <td>empty</td>\n",
       "      <td>tiffanylue know listenin bad habit earlier sta...</td>\n",
       "    </tr>\n",
       "    <tr>\n",
       "      <th>1</th>\n",
       "      <td>sadness</td>\n",
       "      <td>layin n bed headache ughhhhwaitin call</td>\n",
       "    </tr>\n",
       "    <tr>\n",
       "      <th>2</th>\n",
       "      <td>sadness</td>\n",
       "      <td>funeral ceremonygloomy friday</td>\n",
       "    </tr>\n",
       "    <tr>\n",
       "      <th>3</th>\n",
       "      <td>enthusiasm</td>\n",
       "      <td>want hang friend soon</td>\n",
       "    </tr>\n",
       "    <tr>\n",
       "      <th>4</th>\n",
       "      <td>neutral</td>\n",
       "      <td>dannycastillo want trade someone houston ticke...</td>\n",
       "    </tr>\n",
       "  </tbody>\n",
       "</table>\n",
       "</div>"
      ],
      "text/plain": [
       "    sentiment                                            content\n",
       "0       empty  tiffanylue know listenin bad habit earlier sta...\n",
       "1     sadness             layin n bed headache ughhhhwaitin call\n",
       "2     sadness                      funeral ceremonygloomy friday\n",
       "3  enthusiasm                              want hang friend soon\n",
       "4     neutral  dannycastillo want trade someone houston ticke..."
      ]
     },
     "execution_count": 4,
     "metadata": {},
     "output_type": "execute_result"
    }
   ],
   "source": [
    "df = preprocess_text(df)\n",
    "df.head()"
   ]
  },
  {
   "cell_type": "code",
   "execution_count": 5,
   "id": "888a150d",
   "metadata": {},
   "outputs": [
    {
     "data": {
      "text/plain": [
       "sentiment\n",
       "neutral       8638\n",
       "worry         8459\n",
       "happiness     5209\n",
       "sadness       5165\n",
       "love          3842\n",
       "surprise      2187\n",
       "fun           1776\n",
       "relief        1526\n",
       "hate          1323\n",
       "empty          827\n",
       "enthusiasm     759\n",
       "boredom        179\n",
       "anger          110\n",
       "Name: count, dtype: int64"
      ]
     },
     "execution_count": 5,
     "metadata": {},
     "output_type": "execute_result"
    }
   ],
   "source": [
    "df['sentiment'].value_counts()"
   ]
  },
  {
   "cell_type": "code",
   "execution_count": 6,
   "id": "54691134",
   "metadata": {},
   "outputs": [],
   "source": [
    "x= df['sentiment'].isin(['happiness','sadness'])\n",
    "df = df[x]"
   ]
  },
  {
   "cell_type": "code",
   "execution_count": 7,
   "id": "e63c63df",
   "metadata": {},
   "outputs": [
    {
     "name": "stderr",
     "output_type": "stream",
     "text": [
      "C:\\Users\\hp\\AppData\\Local\\Temp\\ipykernel_25332\\1083041448.py:1: FutureWarning: Downcasting behavior in `replace` is deprecated and will be removed in a future version. To retain the old behavior, explicitly call `result.infer_objects(copy=False)`. To opt-in to the future behavior, set `pd.set_option('future.no_silent_downcasting', True)`\n",
      "  df['sentiment'] = df['sentiment'].replace({'sadness':0,'happiness':1})\n"
     ]
    },
    {
     "data": {
      "text/html": [
       "<div>\n",
       "<style scoped>\n",
       "    .dataframe tbody tr th:only-of-type {\n",
       "        vertical-align: middle;\n",
       "    }\n",
       "\n",
       "    .dataframe tbody tr th {\n",
       "        vertical-align: top;\n",
       "    }\n",
       "\n",
       "    .dataframe thead th {\n",
       "        text-align: right;\n",
       "    }\n",
       "</style>\n",
       "<table border=\"1\" class=\"dataframe\">\n",
       "  <thead>\n",
       "    <tr style=\"text-align: right;\">\n",
       "      <th></th>\n",
       "      <th>sentiment</th>\n",
       "      <th>content</th>\n",
       "    </tr>\n",
       "  </thead>\n",
       "  <tbody>\n",
       "    <tr>\n",
       "      <th>1</th>\n",
       "      <td>0</td>\n",
       "      <td>layin n bed headache ughhhhwaitin call</td>\n",
       "    </tr>\n",
       "    <tr>\n",
       "      <th>2</th>\n",
       "      <td>0</td>\n",
       "      <td>funeral ceremonygloomy friday</td>\n",
       "    </tr>\n",
       "    <tr>\n",
       "      <th>6</th>\n",
       "      <td>0</td>\n",
       "      <td>sleep im thinking old friend want he married d...</td>\n",
       "    </tr>\n",
       "    <tr>\n",
       "      <th>8</th>\n",
       "      <td>0</td>\n",
       "      <td>charviray charlene love miss</td>\n",
       "    </tr>\n",
       "    <tr>\n",
       "      <th>9</th>\n",
       "      <td>0</td>\n",
       "      <td>kelcouch im sorry least friday</td>\n",
       "    </tr>\n",
       "  </tbody>\n",
       "</table>\n",
       "</div>"
      ],
      "text/plain": [
       "   sentiment                                            content\n",
       "1          0             layin n bed headache ughhhhwaitin call\n",
       "2          0                      funeral ceremonygloomy friday\n",
       "6          0  sleep im thinking old friend want he married d...\n",
       "8          0                       charviray charlene love miss\n",
       "9          0                     kelcouch im sorry least friday"
      ]
     },
     "execution_count": 7,
     "metadata": {},
     "output_type": "execute_result"
    }
   ],
   "source": [
    "df['sentiment'] = df['sentiment'].replace({'sadness':0,'happiness':1})\n",
    "df.head()"
   ]
  },
  {
   "cell_type": "code",
   "execution_count": 14,
   "id": "7220ae3f",
   "metadata": {},
   "outputs": [],
   "source": [
    "vectorizers = {\n",
    "    \"Bag of words \":CountVectorizer(),\n",
    "    \"Tfidf Vectorizer \": TfidfVectorizer()\n",
    "}\n",
    "\n",
    "algorithms = {\n",
    "    'LogisticRegression':LogisticRegression(),\n",
    "    'MultinomialNB': MultinomialNB(),\n",
    "    'RandomForest' : RandomForestClassifier(),\n",
    "    'XGBoost':XGBClassifier(),\n",
    "    'GradientBoosting':GradientBoostingClassifier()\n",
    "    \n",
    "}"
   ]
  },
  {
   "cell_type": "code",
   "execution_count": 20,
   "id": "b9959353",
   "metadata": {},
   "outputs": [
    {
     "data": {
      "text/html": [
       "<pre style=\"white-space:pre;overflow-x:auto;line-height:normal;font-family:Menlo,'DejaVu Sans Mono',consolas,'Courier New',monospace\">Accessing as Nite2005\n",
       "</pre>\n"
      ],
      "text/plain": [
       "Accessing as Nite2005\n"
      ]
     },
     "metadata": {},
     "output_type": "display_data"
    },
    {
     "data": {
      "text/html": [
       "<pre style=\"white-space:pre;overflow-x:auto;line-height:normal;font-family:Menlo,'DejaVu Sans Mono',consolas,'Courier New',monospace\">Initialized MLflow to track repo <span style=\"color: #008000; text-decoration-color: #008000\">\"Nite2005/mlops-mini-project\"</span>\n",
       "</pre>\n"
      ],
      "text/plain": [
       "Initialized MLflow to track repo \u001b[32m\"Nite2005/mlops-mini-project\"\u001b[0m\n"
      ]
     },
     "metadata": {},
     "output_type": "display_data"
    },
    {
     "data": {
      "text/html": [
       "<pre style=\"white-space:pre;overflow-x:auto;line-height:normal;font-family:Menlo,'DejaVu Sans Mono',consolas,'Courier New',monospace\">Repository Nite2005/mlops-mini-project initialized!\n",
       "</pre>\n"
      ],
      "text/plain": [
       "Repository Nite2005/mlops-mini-project initialized!\n"
      ]
     },
     "metadata": {},
     "output_type": "display_data"
    },
    {
     "name": "stderr",
     "output_type": "stream",
     "text": [
      "2025/07/19 23:39:18 INFO mlflow.tracking.fluent: Experiment with name 'All experiment' does not exist. Creating a new experiment.\n"
     ]
    },
    {
     "data": {
      "text/plain": [
       "<Experiment: artifact_location='mlflow-artifacts:/38031a56ad0447ffabe817478c3a4ce8', creation_time=1752948557881, experiment_id='1', last_update_time=1752948557881, lifecycle_stage='active', name='All experiment', tags={}>"
      ]
     },
     "execution_count": 20,
     "metadata": {},
     "output_type": "execute_result"
    }
   ],
   "source": [
    "import dagshub\n",
    "\n",
    "dagshub.init(repo_owner='Nite2005', repo_name='mlops-mini-project', mlflow=True)\n",
    "mlflow.set_tracking_uri(\"https://dagshub.com/Nite2005/mlops-mini-project.mlflow\")\n",
    "\n",
    "\n",
    "mlflow.set_experiment(\"All experiment\")"
   ]
  },
  {
   "cell_type": "code",
   "execution_count": 22,
   "id": "5432413a",
   "metadata": {},
   "outputs": [
    {
     "name": "stdout",
     "output_type": "stream",
     "text": [
      "🏃 View run LogisticRegression with Bag of words  at: https://dagshub.com/Nite2005/mlops-mini-project.mlflow/#/experiments/1/runs/99dcb4227cfd4b25b3b43dbabdbbeaf1\n",
      "🧪 View experiment at: https://dagshub.com/Nite2005/mlops-mini-project.mlflow/#/experiments/1\n",
      "🏃 View run LogisticRegression with Tfidf Vectorizer  at: https://dagshub.com/Nite2005/mlops-mini-project.mlflow/#/experiments/1/runs/40d54d6f42b74b8eb8dbf8936350790f\n",
      "🧪 View experiment at: https://dagshub.com/Nite2005/mlops-mini-project.mlflow/#/experiments/1\n",
      "🏃 View run MultinomialNB with Bag of words  at: https://dagshub.com/Nite2005/mlops-mini-project.mlflow/#/experiments/1/runs/aa2a4812b1e34f969183ce2d9fb1f0f8\n",
      "🧪 View experiment at: https://dagshub.com/Nite2005/mlops-mini-project.mlflow/#/experiments/1\n",
      "🏃 View run MultinomialNB with Tfidf Vectorizer  at: https://dagshub.com/Nite2005/mlops-mini-project.mlflow/#/experiments/1/runs/45dabd8ebd3246f68a80afec4a8b1b5e\n",
      "🧪 View experiment at: https://dagshub.com/Nite2005/mlops-mini-project.mlflow/#/experiments/1\n",
      "🏃 View run RandomForest with Bag of words  at: https://dagshub.com/Nite2005/mlops-mini-project.mlflow/#/experiments/1/runs/b868308b66f64d539cbc32bed2aaebcc\n",
      "🧪 View experiment at: https://dagshub.com/Nite2005/mlops-mini-project.mlflow/#/experiments/1\n",
      "🏃 View run RandomForest with Tfidf Vectorizer  at: https://dagshub.com/Nite2005/mlops-mini-project.mlflow/#/experiments/1/runs/0759c61e86b74713a85d327af849abfd\n",
      "🧪 View experiment at: https://dagshub.com/Nite2005/mlops-mini-project.mlflow/#/experiments/1\n",
      "🏃 View run XGBoost with Bag of words  at: https://dagshub.com/Nite2005/mlops-mini-project.mlflow/#/experiments/1/runs/44272efbcfd04f0d8e2eac5f06f18df5\n",
      "🧪 View experiment at: https://dagshub.com/Nite2005/mlops-mini-project.mlflow/#/experiments/1\n",
      "🏃 View run XGBoost with Tfidf Vectorizer  at: https://dagshub.com/Nite2005/mlops-mini-project.mlflow/#/experiments/1/runs/c0f6e6ee2d1440fe8b164d28df90ef41\n",
      "🧪 View experiment at: https://dagshub.com/Nite2005/mlops-mini-project.mlflow/#/experiments/1\n",
      "🏃 View run GradientBoosting with Bag of words  at: https://dagshub.com/Nite2005/mlops-mini-project.mlflow/#/experiments/1/runs/50757cc6841b46d9b7e93ac9b9288d3a\n",
      "🧪 View experiment at: https://dagshub.com/Nite2005/mlops-mini-project.mlflow/#/experiments/1\n",
      "🏃 View run GradientBoosting with Tfidf Vectorizer  at: https://dagshub.com/Nite2005/mlops-mini-project.mlflow/#/experiments/1/runs/25f0f96d8a0d48f6bb9c09aa37eb6ea9\n",
      "🧪 View experiment at: https://dagshub.com/Nite2005/mlops-mini-project.mlflow/#/experiments/1\n",
      "🏃 View run All Experiments at: https://dagshub.com/Nite2005/mlops-mini-project.mlflow/#/experiments/1/runs/8a77e195824b4e2290a0c53961885bf8\n",
      "🧪 View experiment at: https://dagshub.com/Nite2005/mlops-mini-project.mlflow/#/experiments/1\n"
     ]
    }
   ],
   "source": [
    "with mlflow.start_run(run_name = 'All Experiments') as parent_run:\n",
    "    for algo_name,algorithm in algorithms.items():\n",
    "        for vec_name,vectorizer in vectorizers.items():\n",
    "            with mlflow.start_run(run_name=f\"{algo_name} with {vec_name}\",nested=True) as child_run:    \n",
    "                x =vectorizer.fit_transform(df['content'])\n",
    "                y = df['sentiment']\n",
    "\n",
    "                x_train,x_test,y_train,y_test = train_test_split(x,y,test_size=0.2,random_state=42)\n",
    "                model = algorithm\n",
    "                model.fit(x_train,y_train)\n",
    "\n",
    "                y_pred = model.predict(x_test)\n",
    "                accuracy = accuracy_score(y_test,y_pred)\n",
    "                precision = precision_score(y_test,y_pred)\n",
    "                recall = recall_score(y_test,y_pred)\n",
    "                f1 = f1_score(y_test,y_pred)\n",
    "\n",
    "                mlflow.log_metric('accuracy',accuracy)\n",
    "                mlflow.log_metric('precision',precision)\n",
    "                mlflow.log_metric('recall',recall)\n",
    "                mlflow.log_metric('f1_score',f1)\n",
    "\n",
    "                mlflow.log_param(\"vectorizer\",vec_name)\n",
    "                mlflow.log_param(\"algorithm\",algo_name)\n",
    "                mlflow.log_param(\"test_size\",0.2)\n",
    "\n",
    "                if algo_name == 'LogisticRegression':\n",
    "                    mlflow.log_param(\"C\",model.C)\n",
    "                elif algo_name == 'MultinomialNB':\n",
    "                    mlflow.log_param(\"alpha\",model.alpha)\n",
    "                elif algo_name == 'XGBoost':\n",
    "                    mlflow.log_param(\"n_estimator\",model.n_estimators)\n",
    "                    mlflow.log_param(\"learning_rate\",model.learning_rate)\n",
    "                elif algo_name == 'RandomForest':\n",
    "                    mlflow.log_param(\"n_estimators\",model.n_estimators)\n",
    "                    mlflow.log_param(\"max_depth\",model.max_depth)\n",
    "                elif algo_name == 'GradientBoosting':\n",
    "                    mlflow.log_param(\"n_estimator\",model.n_estimators)\n",
    "                    mlflow.log_param(\"learning_rate\",model.learning_rate)\n",
    "                    mlflow.log_param(\"max_depth\",model.max_depth)\n",
    "                \n",
    "                notebook_path = 'exp1_baseline_model.ipynb'\n",
    "                mlflow.log_artifact(notebook_path)\n",
    "\n"
   ]
  },
  {
   "cell_type": "code",
   "execution_count": null,
   "id": "194114e6",
   "metadata": {},
   "outputs": [],
   "source": []
  }
 ],
 "metadata": {
  "kernelspec": {
   "display_name": "myenv",
   "language": "python",
   "name": "python3"
  },
  "language_info": {
   "codemirror_mode": {
    "name": "ipython",
    "version": 3
   },
   "file_extension": ".py",
   "mimetype": "text/x-python",
   "name": "python",
   "nbconvert_exporter": "python",
   "pygments_lexer": "ipython3",
   "version": "3.13.2"
  }
 },
 "nbformat": 4,
 "nbformat_minor": 5
}
